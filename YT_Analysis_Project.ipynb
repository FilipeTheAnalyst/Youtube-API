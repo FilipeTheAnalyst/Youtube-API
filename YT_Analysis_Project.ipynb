{
 "cells": [
  {
   "cell_type": "markdown",
   "metadata": {},
   "source": [
    "# Youtube Data Analysts Channels Project"
   ]
  },
  {
   "cell_type": "markdown",
   "metadata": {},
   "source": [
    "## Import Libraries\n",
    "In this section we are going to import our libraries."
   ]
  },
  {
   "cell_type": "code",
   "execution_count": 1,
   "metadata": {},
   "outputs": [],
   "source": [
    "from googleapiclient.discovery import build\n",
    "import pandas as pd\n",
    "import seaborn as sns\n",
    "import psycopg2 as ps"
   ]
  },
  {
   "cell_type": "markdown",
   "metadata": {},
   "source": [
    "## Setup\n",
    "First you will need to create an API key by going to __[Youtube API signup](https://console.cloud.google.com/apis/)__. Then I created an environment variable named **api_key** and paste in your key.\n",
    "After that I created a list of channel ids that I want to use for analysis and setup the youtube variable."
   ]
  },
  {
   "cell_type": "code",
   "execution_count": 2,
   "metadata": {},
   "outputs": [],
   "source": [
    "api_key = 'XXXXX'\n",
    "channel_ids = ['UCnz-ZXXER4jOvuED5trXfEA', # techTFQ\n",
    "               'UCLLw7jmFsvfIVaUFsLs8mlQ', # Luke Barousse \n",
    "               'UCiT9RITQ9PW6BhXK0y2jaeg', # Ken Jee\n",
    "               'UC7cs8q-gJRlGwj4A8OmCmXg', # Alex the analyst\n",
    "               'UC2UXDak6o7rBm23k3Vv5dww', # Tina Huang\n",
    "               'UCvZnwzmc3m1Eush-Or8Z6DA', # Shashank Kalanithi\n",
    "               'UCq6XkhO5SZ66N04IcPbqNcw', # Keith Galli\n",
    "               'UCW8Ews7tdKKkBT6GdtQaXvQ', # Nate StrataScratch\n",
    "               'UCmLGJ3VYBcfRaWbP6JLJcpA', # Seattle Data Guy\n",
    "               'UCV8e2g4IWQqK71bbzGDEI4Q'  # Data Professor\n",
    "              ]\n",
    "\n",
    "youtube = build('youtube', 'v3', developerKey=api_key)"
   ]
  },
  {
   "cell_type": "markdown",
   "metadata": {},
   "source": [
    "## Channel Stats\n",
    "In this section I defined a function to gather data from the list of channels stated in the section above.\n",
    "I gathered the upload playlist from each channel (containing all of their videos) and use that to get details from each video as we'll see in the next section."
   ]
  },
  {
   "cell_type": "code",
   "execution_count": 3,
   "metadata": {},
   "outputs": [],
   "source": [
    "def get_channel_stats(youtube, channel_ids):\n",
    "    all_data = []\n",
    "    request = youtube.channels().list(part='snippet,contentDetails,statistics',id=','.join(channel_ids))\n",
    "    response = request.execute()\n",
    "\n",
    "    for i in range(len(response['items'])):\n",
    "        data = dict(Channel_name = response['items'][i]['snippet']['title'],\n",
    "                        Subscribers = response['items'][i]['statistics']['subscriberCount'],\n",
    "                        Views = response['items'][i]['statistics']['viewCount'],\n",
    "                        Total_videos = response['items'][i]['statistics']['videoCount'],\n",
    "                        playlist_id = response['items'][i]['contentDetails']['relatedPlaylists']['uploads'],\n",
    "                        Published_date = response['items'][i]['snippet']['publishedAt'],\n",
    "                    )\n",
    "        all_data.append(data)\n",
    "\n",
    "    return all_data"
   ]
  },
  {
   "cell_type": "markdown",
   "metadata": {},
   "source": [
    "### Create channel stats"
   ]
  },
  {
   "cell_type": "code",
   "execution_count": 4,
   "metadata": {},
   "outputs": [],
   "source": [
    "channel_statistics = get_channel_stats(youtube,channel_ids)"
   ]
  },
  {
   "cell_type": "markdown",
   "metadata": {},
   "source": [
    "### Convert channel stats into a pandas dataframe"
   ]
  },
  {
   "cell_type": "code",
   "execution_count": 5,
   "metadata": {},
   "outputs": [
    {
     "data": {
      "text/html": [
       "<div>\n",
       "<style scoped>\n",
       "    .dataframe tbody tr th:only-of-type {\n",
       "        vertical-align: middle;\n",
       "    }\n",
       "\n",
       "    .dataframe tbody tr th {\n",
       "        vertical-align: top;\n",
       "    }\n",
       "\n",
       "    .dataframe thead th {\n",
       "        text-align: right;\n",
       "    }\n",
       "</style>\n",
       "<table border=\"1\" class=\"dataframe\">\n",
       "  <thead>\n",
       "    <tr style=\"text-align: right;\">\n",
       "      <th></th>\n",
       "      <th>Channel_name</th>\n",
       "      <th>Subscribers</th>\n",
       "      <th>Views</th>\n",
       "      <th>Total_videos</th>\n",
       "      <th>playlist_id</th>\n",
       "      <th>Published_date</th>\n",
       "    </tr>\n",
       "  </thead>\n",
       "  <tbody>\n",
       "    <tr>\n",
       "      <th>0</th>\n",
       "      <td>techTFQ</td>\n",
       "      <td>56600</td>\n",
       "      <td>2343006</td>\n",
       "      <td>52</td>\n",
       "      <td>UUnz-ZXXER4jOvuED5trXfEA</td>\n",
       "      <td>2020-06-13T05:20:37.182391Z</td>\n",
       "    </tr>\n",
       "    <tr>\n",
       "      <th>1</th>\n",
       "      <td>Ken Jee</td>\n",
       "      <td>192000</td>\n",
       "      <td>5935334</td>\n",
       "      <td>228</td>\n",
       "      <td>UUiT9RITQ9PW6BhXK0y2jaeg</td>\n",
       "      <td>2014-02-28T14:58:24Z</td>\n",
       "    </tr>\n",
       "    <tr>\n",
       "      <th>2</th>\n",
       "      <td>Luke Barousse</td>\n",
       "      <td>146000</td>\n",
       "      <td>7246147</td>\n",
       "      <td>72</td>\n",
       "      <td>UULLw7jmFsvfIVaUFsLs8mlQ</td>\n",
       "      <td>2020-08-03T09:02:41.213077Z</td>\n",
       "    </tr>\n",
       "    <tr>\n",
       "      <th>3</th>\n",
       "      <td>Shashank Kalanithi</td>\n",
       "      <td>79000</td>\n",
       "      <td>3112432</td>\n",
       "      <td>107</td>\n",
       "      <td>UUvZnwzmc3m1Eush-Or8Z6DA</td>\n",
       "      <td>2011-10-01T21:44:24Z</td>\n",
       "    </tr>\n",
       "    <tr>\n",
       "      <th>4</th>\n",
       "      <td>Keith Galli</td>\n",
       "      <td>151000</td>\n",
       "      <td>9895657</td>\n",
       "      <td>70</td>\n",
       "      <td>UUq6XkhO5SZ66N04IcPbqNcw</td>\n",
       "      <td>2016-12-27T20:18:51Z</td>\n",
       "    </tr>\n",
       "    <tr>\n",
       "      <th>5</th>\n",
       "      <td>Alex The Analyst</td>\n",
       "      <td>186000</td>\n",
       "      <td>7156689</td>\n",
       "      <td>133</td>\n",
       "      <td>UU7cs8q-gJRlGwj4A8OmCmXg</td>\n",
       "      <td>2020-01-08T05:04:24.970712Z</td>\n",
       "    </tr>\n",
       "    <tr>\n",
       "      <th>6</th>\n",
       "      <td>Tina Huang</td>\n",
       "      <td>284000</td>\n",
       "      <td>10223930</td>\n",
       "      <td>88</td>\n",
       "      <td>UU2UXDak6o7rBm23k3Vv5dww</td>\n",
       "      <td>2013-08-28T18:05:17Z</td>\n",
       "    </tr>\n",
       "    <tr>\n",
       "      <th>7</th>\n",
       "      <td>Seattle Data Guy</td>\n",
       "      <td>23900</td>\n",
       "      <td>1110599</td>\n",
       "      <td>120</td>\n",
       "      <td>UUmLGJ3VYBcfRaWbP6JLJcpA</td>\n",
       "      <td>2017-01-27T06:50:30Z</td>\n",
       "    </tr>\n",
       "    <tr>\n",
       "      <th>8</th>\n",
       "      <td>Data Professor</td>\n",
       "      <td>112000</td>\n",
       "      <td>2687797</td>\n",
       "      <td>268</td>\n",
       "      <td>UUV8e2g4IWQqK71bbzGDEI4Q</td>\n",
       "      <td>2019-08-17T15:59:56Z</td>\n",
       "    </tr>\n",
       "    <tr>\n",
       "      <th>9</th>\n",
       "      <td>StrataScratch</td>\n",
       "      <td>25400</td>\n",
       "      <td>755696</td>\n",
       "      <td>84</td>\n",
       "      <td>UUW8Ews7tdKKkBT6GdtQaXvQ</td>\n",
       "      <td>2019-05-27T18:14:27Z</td>\n",
       "    </tr>\n",
       "  </tbody>\n",
       "</table>\n",
       "</div>"
      ],
      "text/plain": [
       "         Channel_name Subscribers     Views Total_videos  \\\n",
       "0             techTFQ       56600   2343006           52   \n",
       "1             Ken Jee      192000   5935334          228   \n",
       "2       Luke Barousse      146000   7246147           72   \n",
       "3  Shashank Kalanithi       79000   3112432          107   \n",
       "4         Keith Galli      151000   9895657           70   \n",
       "5    Alex The Analyst      186000   7156689          133   \n",
       "6          Tina Huang      284000  10223930           88   \n",
       "7    Seattle Data Guy       23900   1110599          120   \n",
       "8      Data Professor      112000   2687797          268   \n",
       "9       StrataScratch       25400    755696           84   \n",
       "\n",
       "                playlist_id               Published_date  \n",
       "0  UUnz-ZXXER4jOvuED5trXfEA  2020-06-13T05:20:37.182391Z  \n",
       "1  UUiT9RITQ9PW6BhXK0y2jaeg         2014-02-28T14:58:24Z  \n",
       "2  UULLw7jmFsvfIVaUFsLs8mlQ  2020-08-03T09:02:41.213077Z  \n",
       "3  UUvZnwzmc3m1Eush-Or8Z6DA         2011-10-01T21:44:24Z  \n",
       "4  UUq6XkhO5SZ66N04IcPbqNcw         2016-12-27T20:18:51Z  \n",
       "5  UU7cs8q-gJRlGwj4A8OmCmXg  2020-01-08T05:04:24.970712Z  \n",
       "6  UU2UXDak6o7rBm23k3Vv5dww         2013-08-28T18:05:17Z  \n",
       "7  UUmLGJ3VYBcfRaWbP6JLJcpA         2017-01-27T06:50:30Z  \n",
       "8  UUV8e2g4IWQqK71bbzGDEI4Q         2019-08-17T15:59:56Z  \n",
       "9  UUW8Ews7tdKKkBT6GdtQaXvQ         2019-05-27T18:14:27Z  "
      ]
     },
     "execution_count": 5,
     "metadata": {},
     "output_type": "execute_result"
    }
   ],
   "source": [
    "channel_data = pd.DataFrame(channel_statistics)\n",
    "channel_data"
   ]
  },
  {
   "cell_type": "markdown",
   "metadata": {},
   "source": [
    "### Convert the columns to the correct data type"
   ]
  },
  {
   "cell_type": "code",
   "execution_count": 6,
   "metadata": {},
   "outputs": [
    {
     "data": {
      "text/plain": [
       "Channel_name                   object\n",
       "Subscribers                     int64\n",
       "Views                           int64\n",
       "Total_videos                    int64\n",
       "playlist_id                    object\n",
       "Published_date    datetime64[ns, UTC]\n",
       "dtype: object"
      ]
     },
     "execution_count": 6,
     "metadata": {},
     "output_type": "execute_result"
    }
   ],
   "source": [
    "channel_data['Subscribers'] = pd.to_numeric(channel_data['Subscribers'])\n",
    "channel_data['Views'] = pd.to_numeric(channel_data['Views'])\n",
    "channel_data['Total_videos'] = pd.to_numeric(channel_data['Total_videos'])\n",
    "channel_data['Published_date'] = pd.to_datetime(channel_data['Published_date'], format='%Y-%m-%d %H:%M:%S')\n",
    "\n",
    "channel_data.dtypes"
   ]
  },
  {
   "cell_type": "markdown",
   "metadata": {},
   "source": [
    "### Plotting Number of Subscribers per Channel"
   ]
  },
  {
   "cell_type": "code",
   "execution_count": 7,
   "metadata": {},
   "outputs": [
    {
     "data": {
      "image/png": "[encoded data removed]",
      "text/plain": [
       "<Figure size 1152x576 with 1 Axes>"
      ]
     },
     "metadata": {},
     "output_type": "display_data"
    }
   ],
   "source": [
    "sns.set(rc={'figure.figsize':(16,8)})\n",
    "ax = sns.barplot(x='Channel_name', y='Subscribers', data=channel_data)"
   ]
  },
  {
   "cell_type": "markdown",
   "metadata": {},
   "source": [
    "### Plotting Number of Views per Channel"
   ]
  },
  {
   "cell_type": "code",
   "execution_count": 8,
   "metadata": {},
   "outputs": [
    {
     "data": {
      "image/png": "[encoded data removed]",
      "text/plain": [
       "<Figure size 1152x576 with 1 Axes>"
      ]
     },
     "metadata": {},
     "output_type": "display_data"
    }
   ],
   "source": [
    "sns.set(rc={'figure.figsize':(16,8)})\n",
    "ax = sns.barplot(x='Channel_name', y='Views', data=channel_data)"
   ]
  },
  {
   "cell_type": "markdown",
   "metadata": {},
   "source": [
    "### Plotting Number of Videos per Channel"
   ]
  },
  {
   "cell_type": "code",
   "execution_count": 8,
   "metadata": {},
   "outputs": [
    {
     "data": {
      "image/png": "[encoded data removed]",
      "text/plain": [
       "<Figure size 1152x576 with 1 Axes>"
      ]
     },
     "metadata": {},
     "output_type": "display_data"
    }
   ],
   "source": [
    "sns.set(rc={'figure.figsize':(16,8)})\n",
    "ax = sns.barplot(x='Channel_name', y='Total_videos', data=channel_data)"
   ]
  },
  {
   "cell_type": "markdown",
   "metadata": {},
   "source": [
    "### Plotting Heatmap with correlation between numeric variables (Subscribers, Views, Videos)"
   ]
  },
  {
   "cell_type": "code",
   "execution_count": 9,
   "metadata": {},
   "outputs": [
    {
     "data": {
      "image/png": "[encoded data removed]",
      "text/plain": [
       "<Figure size 1152x576 with 2 Axes>"
      ]
     },
     "metadata": {},
     "output_type": "display_data"
    }
   ],
   "source": [
    "dataplot = sns.heatmap(channel_data.corr(), cmap='YlGnBu', annot=True)"
   ]
  },
  {
   "cell_type": "markdown",
   "metadata": {},
   "source": [
    "## Scrape Video Details for all youtube channels"
   ]
  },
  {
   "cell_type": "markdown",
   "metadata": {},
   "source": [
    "### Get playlists with all videos for each channel"
   ]
  },
  {
   "cell_type": "code",
   "execution_count": 10,
   "metadata": {},
   "outputs": [
    {
     "data": {
      "text/plain": [
       "0    UUnz-ZXXER4jOvuED5trXfEA\n",
       "1    UUiT9RITQ9PW6BhXK0y2jaeg\n",
       "2    UULLw7jmFsvfIVaUFsLs8mlQ\n",
       "3    UUvZnwzmc3m1Eush-Or8Z6DA\n",
       "4    UUq6XkhO5SZ66N04IcPbqNcw\n",
       "5    UU7cs8q-gJRlGwj4A8OmCmXg\n",
       "6    UU2UXDak6o7rBm23k3Vv5dww\n",
       "7    UUmLGJ3VYBcfRaWbP6JLJcpA\n",
       "8    UUV8e2g4IWQqK71bbzGDEI4Q\n",
       "9    UUW8Ews7tdKKkBT6GdtQaXvQ\n",
       "Name: playlist_id, dtype: object"
      ]
     },
     "execution_count": 10,
     "metadata": {},
     "output_type": "execute_result"
    }
   ],
   "source": [
    "playlist_id = channel_data['playlist_id']\n",
    "playlist_id"
   ]
  },
  {
   "cell_type": "markdown",
   "metadata": {},
   "source": [
    "### Function to get video ids from each channel"
   ]
  },
  {
   "cell_type": "code",
   "execution_count": 11,
   "metadata": {},
   "outputs": [],
   "source": [
    "def get_video_ids(youtube, playlist_id):\n",
    "    request = youtube.playlistItems().list(part='contentDetails',playlistId = playlist_id,\n",
    "                maxResults = 50)\n",
    "    response = request.execute()\n",
    "\n",
    "    video_ids = []\n",
    "\n",
    "    for i in range(len(response['items'])):\n",
    "        video_ids_dict = dict(Video_id = response['items'][i]['contentDetails']['videoId'],\n",
    "                                        Playlist_id = playlist_id)\n",
    "        video_ids.append(video_ids_dict)\n",
    "\n",
    "    next_page_token = response.get('nextPageToken')\n",
    "    more_pages = True\n",
    "\n",
    "    while more_pages:\n",
    "        if next_page_token is None:\n",
    "            more_pages = False\n",
    "        else:\n",
    "            request = youtube.playlistItems().list(part='contentDetails',playlistId = playlist_id,\n",
    "            maxResults = 50, pageToken = next_page_token)\n",
    "            response = request.execute()\n",
    "\n",
    "            for i in range(len(response['items'])):\n",
    "                video_ids_dict = dict(Video_id = response['items'][i]['contentDetails']['videoId'],\n",
    "                                        Playlist_id = playlist_id)\n",
    "                video_ids.append(video_ids_dict)\n",
    "\n",
    "            next_page_token = response.get('nextPageToken')\n",
    "\n",
    "    return video_ids"
   ]
  },
  {
   "cell_type": "markdown",
   "metadata": {},
   "source": [
    "#### Execute function for all channels and save in a list"
   ]
  },
  {
   "cell_type": "code",
   "execution_count": 12,
   "metadata": {},
   "outputs": [],
   "source": [
    "video_ids = []\n",
    "for video in range(len(playlist_id)):\n",
    "    video_ids.append(get_video_ids(youtube, playlist_id[video]))"
   ]
  },
  {
   "cell_type": "markdown",
   "metadata": {},
   "source": [
    "### Function to get video details from all channels"
   ]
  },
  {
   "cell_type": "code",
   "execution_count": 13,
   "metadata": {},
   "outputs": [],
   "source": [
    "def get_video_details(youtube, video_ids):\n",
    "    all_video_stats = []\n",
    "    for channel in range(len(video_ids)):\n",
    "        video_ids_values = [a_dict['Video_id'] for a_dict in video_ids[channel]]\n",
    "        for i in range(0, len(video_ids_values), 50):\n",
    "            request = youtube.videos().list(\n",
    "                        part='snippet,statistics,contentDetails',\n",
    "                        id = ','.join(video_ids_values[i:i+50]))\n",
    "            response = request.execute()\n",
    "            for video in response['items']:\n",
    "                video_stats = dict(Video_id = video['id'],\n",
    "                                    Title = video['snippet']['title'],\n",
    "                                    Title_length = len(video['snippet']['title']),\n",
    "                                    Title_word_count = len(video['snippet']['title'].split()),\n",
    "                                    Published_date = video['snippet']['publishedAt'],\n",
    "                                    Tags = video['snippet'].get('tags',[]),\n",
    "                                    Tag_count = len(video['snippet'].get('tags',[])),\n",
    "                                    Views = video['statistics']['viewCount'],\n",
    "                                    Likes = video['statistics']['likeCount'],\n",
    "                                    Comments = video['statistics']['commentCount'],\n",
    "                                    Channel_name = video['snippet']['channelTitle'],\n",
    "                                    Duration = video['contentDetails']['duration']\n",
    "                                    )\n",
    "                all_video_stats.append(video_stats)\n",
    "\n",
    "    return all_video_stats"
   ]
  },
  {
   "cell_type": "markdown",
   "metadata": {},
   "source": [
    "#### Execute function for all channels and save in a list"
   ]
  },
  {
   "cell_type": "code",
   "execution_count": 14,
   "metadata": {},
   "outputs": [],
   "source": [
    "video_details = get_video_details(youtube, video_ids)"
   ]
  },
  {
   "cell_type": "markdown",
   "metadata": {},
   "source": [
    "#### Save video details into a Dataframe"
   ]
  },
  {
   "cell_type": "code",
   "execution_count": 15,
   "metadata": {},
   "outputs": [],
   "source": [
    "video_data = pd.DataFrame(video_details)"
   ]
  },
  {
   "cell_type": "markdown",
   "metadata": {},
   "source": [
    "### Convert Duration from ISO 8601 date and time format using to_timedelta function"
   ]
  },
  {
   "cell_type": "code",
   "execution_count": 16,
   "metadata": {},
   "outputs": [],
   "source": [
    "video_data['Duration'] = pd.to_timedelta(video_data['Duration'])"
   ]
  },
  {
   "cell_type": "markdown",
   "metadata": {},
   "source": [
    "### Convert object types columns to the correct type"
   ]
  },
  {
   "cell_type": "code",
   "execution_count": 17,
   "metadata": {},
   "outputs": [
    {
     "data": {
      "text/plain": [
       "Video_id                         object\n",
       "Title                            object\n",
       "Title_length                      int64\n",
       "Title_word_count                  int64\n",
       "Published_date      datetime64[ns, UTC]\n",
       "Tags                             object\n",
       "Tag_count                         int64\n",
       "Views                             int64\n",
       "Likes                             int64\n",
       "Comments                          int64\n",
       "Channel_name                     object\n",
       "Duration                timedelta64[ns]\n",
       "dtype: object"
      ]
     },
     "execution_count": 17,
     "metadata": {},
     "output_type": "execute_result"
    }
   ],
   "source": [
    "video_data['Published_date'] = pd.to_datetime(video_data['Published_date'], format='%Y-%m-%d %H:%M:%S')\n",
    "video_data['Views'] = pd.to_numeric(video_data['Views'])\n",
    "video_data['Likes'] = pd.to_numeric(video_data['Likes'])\n",
    "video_data['Comments'] = pd.to_numeric(video_data['Comments'])\n",
    "\n",
    "video_data.dtypes"
   ]
  },
  {
   "cell_type": "markdown",
   "metadata": {},
   "source": [
    "### Rank the data by most viewed videos"
   ]
  },
  {
   "cell_type": "code",
   "execution_count": 18,
   "metadata": {},
   "outputs": [],
   "source": [
    "video_data['Rank'] = video_data['Views'].rank(ascending=False, method='dense')"
   ]
  },
  {
   "cell_type": "markdown",
   "metadata": {},
   "source": [
    "## Clean data"
   ]
  },
  {
   "cell_type": "markdown",
   "metadata": {},
   "source": [
    "### Remove columns not needed"
   ]
  },
  {
   "cell_type": "code",
   "execution_count": 19,
   "metadata": {},
   "outputs": [
    {
     "name": "stderr",
     "output_type": "stream",
     "text": [
      "C:\\Users\\u10054206\\AppData\\Local\\Temp\\ipykernel_20548\\3520691713.py:1: FutureWarning: In a future version of pandas all arguments of DataFrame.drop except for the argument 'labels' will be keyword-only.\n",
      "  channel_data = channel_data.drop('playlist_id', 1)\n"
     ]
    }
   ],
   "source": [
    "channel_data = channel_data.drop('playlist_id', 1)"
   ]
  },
  {
   "cell_type": "markdown",
   "metadata": {},
   "source": [
    "#### Remove timezone from Published Date"
   ]
  },
  {
   "cell_type": "code",
   "execution_count": 20,
   "metadata": {},
   "outputs": [],
   "source": [
    "video_data['Published_date'] = video_data['Published_date'].dt.tz_convert(None)"
   ]
  },
  {
   "cell_type": "code",
   "execution_count": 21,
   "metadata": {},
   "outputs": [
    {
     "data": {
      "text/plain": [
       "Video_id                     object\n",
       "Title                        object\n",
       "Title_length                  int64\n",
       "Title_word_count              int64\n",
       "Published_date       datetime64[ns]\n",
       "Tags                         object\n",
       "Tag_count                     int64\n",
       "Views                         int64\n",
       "Likes                         int64\n",
       "Comments                      int64\n",
       "Channel_name                 object\n",
       "Duration            timedelta64[ns]\n",
       "Rank                        float64\n",
       "dtype: object"
      ]
     },
     "execution_count": 21,
     "metadata": {},
     "output_type": "execute_result"
    }
   ],
   "source": [
    "video_data.dtypes"
   ]
  },
  {
   "cell_type": "markdown",
   "metadata": {},
   "source": [
    "## Analysis"
   ]
  },
  {
   "cell_type": "markdown",
   "metadata": {},
   "source": [
    "### Plotting Heatmap with correlation between numeric variables"
   ]
  },
  {
   "cell_type": "code",
   "execution_count": 22,
   "metadata": {},
   "outputs": [
    {
     "data": {
      "image/png": "[encoded data removed]",
      "text/plain": [
       "<Figure size 1152x576 with 2 Axes>"
      ]
     },
     "metadata": {},
     "output_type": "display_data"
    }
   ],
   "source": [
    "dataplot = sns.heatmap(video_data.corr(), cmap='YlGnBu', annot=True)"
   ]
  },
  {
   "cell_type": "markdown",
   "metadata": {},
   "source": [
    "### Count titles and tags words by ocurrences for the top 50 most viewed videos."
   ]
  },
  {
   "cell_type": "code",
   "execution_count": 23,
   "metadata": {},
   "outputs": [],
   "source": [
    "top50_videos = video_data.sort_values(by='Rank', ascending=True).head(50)"
   ]
  },
  {
   "cell_type": "code",
   "execution_count": 24,
   "metadata": {},
   "outputs": [],
   "source": [
    "import re\n",
    "tags_list = []\n",
    "titles_list = []\n",
    "for tags in top50_videos['Tags']:\n",
    "    tags_list.append(re.findall('\\w+', ','.join(tags).lower()))\n",
    "\n",
    "for title in top50_videos['Title']:\n",
    "    titles_list.append(re.findall('\\w+', title.lower()))"
   ]
  },
  {
   "cell_type": "markdown",
   "metadata": {},
   "source": [
    "#### Remove words not relevant for the analysis"
   ]
  },
  {
   "cell_type": "code",
   "execution_count": 25,
   "metadata": {},
   "outputs": [],
   "source": [
    "tags_words = []\n",
    "titles_words = []\n",
    "remove_words = ['to', 'how', 'for', 'a', 'in', 'ken', 'jee', 'the', 'and', 'vs', 'with', 'of', 'is', 'i', 'on', 'alex',\n",
    "                'keith', 'galli', 'at']\n",
    "\n",
    "for i in range(len(tags_list)):\n",
    "    for word in tags_list[i]:\n",
    "        if word not in remove_words:\n",
    "            tags_words.append(word.lower())\n",
    "\n",
    "for i in range(len(titles_list)):\n",
    "    for word in titles_list[i]:\n",
    "        if word not in remove_words:\n",
    "            titles_words.append(word.lower())"
   ]
  },
  {
   "cell_type": "markdown",
   "metadata": {},
   "source": [
    "#### Count words used in title and tags"
   ]
  },
  {
   "cell_type": "code",
   "execution_count": 26,
   "metadata": {},
   "outputs": [
    {
     "data": {
      "text/plain": [
       "[('data', 335),\n",
       " ('analyst', 128),\n",
       " ('science', 126),\n",
       " ('python', 94),\n",
       " ('sql', 70),\n",
       " ('learn', 44),\n",
       " ('scientist', 44),\n",
       " ('google', 41),\n",
       " ('connect', 40),\n",
       " ('tutorial', 39)]"
      ]
     },
     "execution_count": 26,
     "metadata": {},
     "output_type": "execute_result"
    }
   ],
   "source": [
    "from collections import Counter\n",
    "\n",
    "total_tags_words = Counter()\n",
    "total_titles_words = Counter()\n",
    "\n",
    "for word in tags_words:\n",
    "    total_tags_words[word]+=1\n",
    "\n",
    "for word in titles_words:\n",
    "    total_titles_words[word]+=1\n",
    "\n",
    "total_tags_words.most_common()[0:10]"
   ]
  },
  {
   "cell_type": "code",
   "execution_count": 27,
   "metadata": {},
   "outputs": [],
   "source": [
    "def get_words_count(dictionary):\n",
    "    keys = []\n",
    "    values = []\n",
    "    for key, value in dictionary.items():\n",
    "        keys.append(key)\n",
    "        values.append(value)\n",
    "    return keys, values\n",
    "\n",
    "total_titles_words_keys, total_titles_words_values = get_words_count(total_titles_words)\n",
    "total_tags_words_keys, total_tags_words_values = get_words_count(total_tags_words)"
   ]
  },
  {
   "cell_type": "markdown",
   "metadata": {},
   "source": [
    "#### Create dataframes to store the data from the most common words used in the top 50 videos (title and tags)"
   ]
  },
  {
   "cell_type": "code",
   "execution_count": 28,
   "metadata": {},
   "outputs": [],
   "source": [
    "df_titles_words = pd.DataFrame(data={'Title Word':total_titles_words_keys,'Title Word Count':total_titles_words_values}) \n",
    "df_tags_words = pd.DataFrame(data={'Tag Word':total_tags_words_keys, 'Tag Word Count':total_tags_words_values})"
   ]
  },
  {
   "cell_type": "markdown",
   "metadata": {},
   "source": [
    "## Connect to AWS Postgres Database to update/insert data"
   ]
  },
  {
   "cell_type": "markdown",
   "metadata": {},
   "source": [
    "### Function to connect to the AWS RDS Database"
   ]
  },
  {
   "cell_type": "code",
   "execution_count": 29,
   "metadata": {},
   "outputs": [],
   "source": [
    "def connect_to_db(host_name, dbname, port, username, password):\n",
    "    try:\n",
    "        conn = ps.connect(host = host_name, database = dbname, user = username, password = password, port=port)\n",
    "    except ps.OperationalError as e:\n",
    "        raise e\n",
    "    else:\n",
    "        print('Connected!')\n",
    "    return conn"
   ]
  },
  {
   "cell_type": "markdown",
   "metadata": {},
   "source": [
    "### Functions to manipulate data into table youtubers (create/insert/update)"
   ]
  },
  {
   "cell_type": "code",
   "execution_count": 30,
   "metadata": {},
   "outputs": [],
   "source": [
    "# Function to create table youtubers if doesn't exist\n",
    "def create_table_youtubers(curr):\n",
    "    create_table_command = (\"\"\"CREATE TABLE IF NOT EXISTS youtubers (\n",
    "                            channel_name VARCHAR(255) PRIMARY KEY,\n",
    "                            subscribers INTEGER NOT NULL,\n",
    "                            views INTEGER NOT NULL,\n",
    "                            total_videos INTEGER NOT NULL,\n",
    "                            published_date TIMESTAMP NOT NULL\n",
    "    )\"\"\")\n",
    "    curr.execute(create_table_command)\n",
    "\n",
    "# Function to insert new records into table youtubers if doesn't exist\n",
    "def insert_into_youtubers(curr, channel_name, subscribers, views, total_videos, published_date):\n",
    "    insert_into_youtubers = (\"\"\"INSERT INTO youtubers (channel_name, subscribers, views, total_videos, published_date)\n",
    "                            VALUES(%s, %s, %s, %s, %s)\n",
    "                        ;\"\"\")\n",
    "\n",
    "    row_to_insert = (channel_name, subscribers, views, total_videos, published_date)\n",
    "    curr.execute(insert_into_youtubers, row_to_insert)\n",
    "\n",
    "# Function to update records in table youtubers if exists\n",
    "def update_row_youtuber(curr, channel_name, subscribers, views, total_videos, published_date):\n",
    "    query = (\"\"\"UPDATE youtubers\n",
    "                SET subscribers = %s,\n",
    "                    views = %s,\n",
    "                    total_videos = %s,\n",
    "                    published_date = %s\n",
    "                WHERE channel_name = %s;\"\"\"\n",
    "                    )\n",
    "    vars_to_update = (subscribers, views, total_videos, published_date, channel_name)\n",
    "    curr.execute(query, vars_to_update)\n",
    "\n",
    "# Function to check if youtuber exists\n",
    "def check_if_youtuber_exists(curr, channel_name):\n",
    "    query = (\"\"\"SELECT channel_name FROM youtubers WHERE channel_name = %s;\"\"\")\n",
    "    curr.execute(query, (channel_name,))\n",
    "    return curr.fetchone() is not None\n",
    "\n",
    "# Function to insert new records into table youtubers if doesn't exist\n",
    "def append_from_df_to_db_youtubers(curr, channel_data):\n",
    "    for i, row in channel_data.iterrows():\n",
    "        insert_into_youtubers(curr, row['Channel_name'], row['Subscribers'], row['Views'],\n",
    "                                row['Total_videos'], row['Published_date'])\n",
    "\n",
    "# Function to update records in table youtubers if exists\n",
    "def update_db_youtuber(curr, channel_data):\n",
    "    tmp_df = pd.DataFrame(columns = ['Channel_name', 'Subscribers', 'Views', 'Total_videos', 'Published_date'])\n",
    "    for i, row in channel_data.iterrows():\n",
    "        if check_if_youtuber_exists(curr, row['Channel_name']): # If channel already exists then we will update\n",
    "            update_row_youtuber(curr, row['Channel_name'], row['Subscribers'], row['Views'],\n",
    "                                row['Total_videos'], row['Published_date'])\n",
    "        else: # The youtuber doesn't exist so we will append to the database table\n",
    "            tmp_df = tmp_df.append(row)\n",
    "\n",
    "    return tmp_df\n",
    "\n",
    "# Function to delete all rows from table youtubers\n",
    "def truncate_table_youtuber(curr):\n",
    "    truncate_table = (\"\"\"TRUNCATE TABLE youtubers\"\"\")\n",
    "\n",
    "    curr.execute(truncate_table)"
   ]
  },
  {
   "cell_type": "markdown",
   "metadata": {},
   "source": [
    "### Functions to manipulate data into table videos (create/insert/update)"
   ]
  },
  {
   "cell_type": "code",
   "execution_count": 31,
   "metadata": {},
   "outputs": [],
   "source": [
    "# Function to create table videos if doesn't exist\n",
    "def create_table_videos(curr):\n",
    "    create_table_command = (\"\"\"CREATE TABLE IF NOT EXISTS videos (\n",
    "                            video_id VARCHAR(255) PRIMARY KEY,\n",
    "                            title VARCHAR(255) NOT NULL,\n",
    "                            title_word_count INTEGER NOT NULL,\n",
    "                            published_date TIMESTAMP NOT NULL,\n",
    "                            tags TEXT NOT NULL,\n",
    "                            tag_count INTEGER NOT NULL,\n",
    "                            views INTEGER NOT NULL,\n",
    "                            likes INTEGER NOT NULL,\n",
    "                            comments INTEGER NOT NULL,\n",
    "                            channel_name VARCHAR(255) NOT NULL,\n",
    "                            duration TIME NOT NULL,\n",
    "                            rank INTEGER NOT NULL\n",
    "    )\"\"\")\n",
    "    curr.execute(create_table_command)\n",
    "\n",
    "# Function to insert new records into table videos if doesn't exist\n",
    "def insert_into_videos(curr, video_id, title, title_word_count, published_date, tags, tag_count, views, likes, comments, channel_name, duration, rank):\n",
    "    insert_into_videos = (\"\"\"INSERT INTO videos (video_id, title, title_word_count, published_date, tags, tag_count, \n",
    "                            views, likes, comments, channel_name, duration, rank)\n",
    "                            VALUES(%s, %s, %s, %s, %s, %s, %s, %s, %s, %s, %s, %s)\n",
    "                        ;\"\"\")\n",
    "\n",
    "    row_to_insert = (video_id, title, title_word_count, published_date, tags, tag_count, views, likes, comments, channel_name, duration, rank)\n",
    "\n",
    "    curr.execute(insert_into_videos, row_to_insert)\n",
    "\n",
    "# Function to update records in table videos if exists\n",
    "def update_row_video(curr, video_id, title, title_word_count, published_date, tags, tag_count, views, likes, comments, channel_name, duration, rank):\n",
    "    query = (\"\"\"UPDATE videos\n",
    "                SET title = %s,\n",
    "                    title_word_count = %s,\n",
    "                    published_date = %s,\n",
    "                    tags = %s,\n",
    "                    tag_count = %s,\n",
    "                    views = %s,\n",
    "                    likes = %s,\n",
    "                    comments = %s,\n",
    "                    channel_name = %s,\n",
    "                    duration = %s,\n",
    "                    rank = %s\n",
    "                WHERE video_id = %s;\"\"\"\n",
    "                    )\n",
    "    vars_to_update = (title, title_word_count, published_date, tags, tag_count, views, likes, comments, channel_name, duration, rank, video_id)\n",
    "    curr.execute(query, vars_to_update)\n",
    "\n",
    "# check if video exists\n",
    "def check_if_video_exists(curr, video_id):\n",
    "    query = (\"\"\"SELECT video_id FROM videos WHERE video_id = %s\"\"\")\n",
    "    curr.execute(query, (video_id,))\n",
    "\n",
    "    return curr.fetchone() is not None\n",
    "\n",
    "# Function to insert new records into table videos if doesn't exist\n",
    "def append_from_df_to_db_videos(curr, video_data):\n",
    "    for i, row in video_data.iterrows():\n",
    "        insert_into_videos(curr, row['Video_id'], row['Title'], row['Title_word_count'], row['Published_date'], row['Tags'],\n",
    "                            row['Tag_count'], row['Views'], row['Likes'], row['Comments'], row['Channel_name'],\n",
    "                            row['Duration'], row['Rank'])\n",
    "\n",
    "# Function to update records in table videos if exists\n",
    "def update_db_video(curr, video_data):\n",
    "    tmp_df = pd.DataFrame(columns = ['Video_id', 'Title', 'Title_word_count', 'Published_date', 'Tags', 'Tag_count',\n",
    "                                    'Views', 'Likes', 'Comments', 'Channel_name', 'Duration', 'Rank'])\n",
    "\n",
    "    for i, row in video_data.iterrows():\n",
    "        if check_if_video_exists(curr, row['Video_id']): # If video already exists then we will update\n",
    "            update_row_video(curr, row['Video_id'], row['Title'], row['Title_word_count'], row['Published_date'], row['Tags'],\n",
    "                        row['Tag_count'], row['Views'], row['Likes'], row['Comments'], row['Channel_name'],\n",
    "                        row['Duration'], row['Rank'])\n",
    "        else: # The video doesn't exist so we will append to the database table\n",
    "            tmp_df = tmp_df.append(row)\n",
    "            \n",
    "    return tmp_df\n",
    "\n",
    "# Function to delete all rows from table videos\n",
    "def truncate_table_video(curr):\n",
    "    truncate_table = (\"\"\"TRUNCATE TABLE videos\"\"\")\n",
    "\n",
    "    curr.execute(truncate_table)"
   ]
  },
  {
   "cell_type": "markdown",
   "metadata": {},
   "source": [
    "### Functions to manipulate data into table tags (create/insert/update)"
   ]
  },
  {
   "cell_type": "code",
   "execution_count": 32,
   "metadata": {},
   "outputs": [],
   "source": [
    "# Function to create table tags if doesn't exist\n",
    "def create_table_tags(curr):\n",
    "    create_table_command = (\"\"\"CREATE TABLE IF NOT EXISTS tags (\n",
    "                            tag_word VARCHAR(255) PRIMARY KEY,\n",
    "                            tag_word_count INTEGER NOT NULL\n",
    "    )\"\"\")\n",
    "    curr.execute(create_table_command)\n",
    "\n",
    "# Function to insert new records into table tags if doesn't exist\n",
    "def insert_into_tags(curr, tag_word, tag_word_count):\n",
    "    insert_into_tags = (\"\"\"INSERT INTO tags (tag_word, tag_word_count)\n",
    "                            VALUES(%s, %s)\n",
    "                        ;\"\"\")\n",
    "\n",
    "    row_to_insert = (tag_word, tag_word_count)\n",
    "    curr.execute(insert_into_tags, row_to_insert)\n",
    "\n",
    "# Function to update records in table tags if exists\n",
    "def update_row_tag(curr, tag_word, tag_word_count):\n",
    "    query = (\"\"\"UPDATE tags\n",
    "                SET tag_word_count = %s\n",
    "                WHERE tag_word = %s;\"\"\"\n",
    "                    )\n",
    "    vars_to_update = (tag_word_count, tag_word)\n",
    "    curr.execute(query, vars_to_update)\n",
    "\n",
    "# Function to check if tag exists\n",
    "def check_if_tag_exists(curr, tag_word):\n",
    "    query = (\"\"\"SELECT tag_word FROM tags WHERE tag_word = %s;\"\"\")\n",
    "    curr.execute(query, (tag_word,))\n",
    "    return curr.fetchone() is not None\n",
    "\n",
    "# Function to insert new records into table tags if doesn't exist\n",
    "def append_from_df_to_db_tags(curr, df_tags_words):\n",
    "    for i, row in df_tags_words.iterrows():\n",
    "        insert_into_tags(curr, row['Tag Word'], row['Tag Word Count'])\n",
    "\n",
    "# Function to update records in table tags if exists\n",
    "def update_db_tag(curr, df_tags_words):\n",
    "    tmp_df = pd.DataFrame(columns = ['Tag Word', 'Tag Word Count'])\n",
    "    for i, row in df_tags_words.iterrows():\n",
    "        if check_if_tag_exists(curr, row['Tag Word']): # If tag already exists then we will update\n",
    "            update_row_tag(curr, row['Tag Word'], row['Tag Word Count'])\n",
    "        else: # The tag doesn't exist so we will append to the database table\n",
    "            tmp_df = tmp_df.append(row)\n",
    "\n",
    "    return tmp_df\n",
    "\n",
    "# Function to delete all rows from table tags\n",
    "def truncate_table_tag(curr):\n",
    "    truncate_table = (\"\"\"TRUNCATE TABLE tags\"\"\")\n",
    "\n",
    "    curr.execute(truncate_table)"
   ]
  },
  {
   "cell_type": "markdown",
   "metadata": {},
   "source": [
    "### Functions to manipulate data into table titles (create/insert/update)"
   ]
  },
  {
   "cell_type": "code",
   "execution_count": 52,
   "metadata": {},
   "outputs": [],
   "source": [
    "# Function to create table titles if doesn't exist\n",
    "def create_table_titles(curr):\n",
    "    create_table_command = (\"\"\"CREATE TABLE IF NOT EXISTS titles (\n",
    "                            title_word VARCHAR(255) PRIMARY KEY,\n",
    "                            title_word_count INTEGER NOT NULL\n",
    "    )\"\"\")\n",
    "    curr.execute(create_table_command)\n",
    "\n",
    "# Function to insert new records into table titles if doesn't exist\n",
    "def insert_into_titles(curr, title_word, title_word_count):\n",
    "    insert_into_tags = (\"\"\"INSERT INTO titles (title_word, title_word_count)\n",
    "                            VALUES(%s, %s)\n",
    "                        ;\"\"\")\n",
    "\n",
    "    row_to_insert = (title_word, title_word_count)\n",
    "    curr.execute(insert_into_tags, row_to_insert)\n",
    "\n",
    "# Function to update records in table titles if exists\n",
    "def update_row_title(curr, title_word, title_word_count):\n",
    "    query = (\"\"\"UPDATE titles\n",
    "                SET title_word_count = %s\n",
    "                WHERE title_word = %s;\"\"\"\n",
    "                    )\n",
    "    vars_to_update = (title_word_count, title_word)\n",
    "    curr.execute(query, vars_to_update)\n",
    "\n",
    "# Function to check if title exists\n",
    "def check_if_title_exists(curr, title_word):\n",
    "    query = (\"\"\"SELECT title_word FROM titles WHERE title_word = %s;\"\"\")\n",
    "    curr.execute(query, (title_word,))\n",
    "    return curr.fetchone() is not None\n",
    "\n",
    "# Function to insert new records into table titles if doesn't exist\n",
    "def append_from_df_to_db_titles(curr, df_titles_words):\n",
    "    for i, row in df_titles_words.iterrows():\n",
    "        insert_into_titles(curr, row['Title Word'], row['Title Word Count'])\n",
    "\n",
    "# Function to update records in table titles if exists\n",
    "def update_db_title(curr, df_titles_words):\n",
    "    tmp_df = pd.DataFrame(columns = ['Title Word', 'Title Word Count'])\n",
    "    for i, row in df_titles_words.iterrows():\n",
    "        if check_if_title_exists(curr, row['Title Word']): # If title already exists then we will update\n",
    "            update_row_title(curr, row['Title Word'], row['Title Word Count'])\n",
    "        else: # The title doesn't exist so we will append to the database table\n",
    "            tmp_df = tmp_df.append(row)\n",
    "\n",
    "    return tmp_df\n",
    "\n",
    "# Function to delete all rows from table titles\n",
    "def truncate_table_title(curr):\n",
    "    truncate_table = (\"\"\"TRUNCATE TABLE titles\"\"\")\n",
    "\n",
    "    curr.execute(truncate_table)"
   ]
  },
  {
   "cell_type": "markdown",
   "metadata": {},
   "source": [
    "### Database Credentials"
   ]
  },
  {
   "cell_type": "code",
   "execution_count": 35,
   "metadata": {},
   "outputs": [],
   "source": [
    "host_name = 'XXXXXX'\n",
    "dbname = 'XXX'\n",
    "port = '5432'\n",
    "username = 'XXX'\n",
    "password = 'XXXXX'\n",
    "conn = None"
   ]
  },
  {
   "cell_type": "markdown",
   "metadata": {},
   "source": [
    "### Establish a connection to database"
   ]
  },
  {
   "cell_type": "code",
   "execution_count": 54,
   "metadata": {},
   "outputs": [
    {
     "name": "stdout",
     "output_type": "stream",
     "text": [
      "Connected!\n"
     ]
    }
   ],
   "source": [
    "conn = connect_to_db(host_name, dbname, port, username, password)\n",
    "curr = conn.cursor()"
   ]
  },
  {
   "cell_type": "markdown",
   "metadata": {},
   "source": [
    "#### Create Table Youtubers (Channels)"
   ]
  },
  {
   "cell_type": "code",
   "execution_count": 37,
   "metadata": {},
   "outputs": [],
   "source": [
    "create_table_youtubers(curr)"
   ]
  },
  {
   "cell_type": "markdown",
   "metadata": {},
   "source": [
    "#### Create Table Videos"
   ]
  },
  {
   "cell_type": "code",
   "execution_count": 38,
   "metadata": {},
   "outputs": [],
   "source": [
    "create_table_videos(curr)"
   ]
  },
  {
   "cell_type": "markdown",
   "metadata": {},
   "source": [
    "#### Create Table Tags"
   ]
  },
  {
   "cell_type": "code",
   "execution_count": 39,
   "metadata": {},
   "outputs": [],
   "source": [
    "create_table_tags(curr)"
   ]
  },
  {
   "cell_type": "markdown",
   "metadata": {},
   "source": [
    "#### Create Table Titles"
   ]
  },
  {
   "cell_type": "code",
   "execution_count": 40,
   "metadata": {},
   "outputs": [],
   "source": [
    "create_table_titles(curr)"
   ]
  },
  {
   "cell_type": "markdown",
   "metadata": {},
   "source": [
    "### Update data for existing youtubers"
   ]
  },
  {
   "cell_type": "code",
   "execution_count": 41,
   "metadata": {},
   "outputs": [],
   "source": [
    "new_channel_df = update_db_youtuber(curr, channel_data)\n",
    "conn.commit()"
   ]
  },
  {
   "cell_type": "markdown",
   "metadata": {},
   "source": [
    "### Update data for existing videos"
   ]
  },
  {
   "cell_type": "code",
   "execution_count": 42,
   "metadata": {},
   "outputs": [
    {
     "name": "stderr",
     "output_type": "stream",
     "text": [
      "C:\\Users\\u10054206\\AppData\\Local\\Temp\\ipykernel_20548\\2477253502.py:74: FutureWarning: The frame.append method is deprecated and will be removed from pandas in a future version. Use pandas.concat instead.\n",
      "  tmp_df = tmp_df.append(row)\n"
     ]
    }
   ],
   "source": [
    "new_video_df = update_db_video(curr, video_data)\n",
    "conn.commit()"
   ]
  },
  {
   "cell_type": "markdown",
   "metadata": {},
   "source": [
    "#### Update data for existing tags"
   ]
  },
  {
   "cell_type": "code",
   "execution_count": null,
   "metadata": {},
   "outputs": [],
   "source": [
    "new_tag_df = update_db_tag(curr, df_tags_words)\n",
    "conn.commit()"
   ]
  },
  {
   "cell_type": "markdown",
   "metadata": {},
   "source": [
    "#### Update data for existing titles"
   ]
  },
  {
   "cell_type": "code",
   "execution_count": null,
   "metadata": {},
   "outputs": [],
   "source": [
    "new_title_df = update_db_title(curr, df_titles_words)\n",
    "conn.commit()"
   ]
  },
  {
   "cell_type": "markdown",
   "metadata": {},
   "source": [
    "### Insert new youtubers into database table"
   ]
  },
  {
   "cell_type": "code",
   "execution_count": 48,
   "metadata": {},
   "outputs": [],
   "source": [
    "append_from_df_to_db_youtubers(curr, new_channel_df)\n",
    "conn.commit()"
   ]
  },
  {
   "cell_type": "markdown",
   "metadata": {},
   "source": [
    "### Insert new videos into database table"
   ]
  },
  {
   "cell_type": "code",
   "execution_count": 49,
   "metadata": {},
   "outputs": [],
   "source": [
    "append_from_df_to_db_videos(curr, new_video_df)\n",
    "conn.commit()"
   ]
  },
  {
   "cell_type": "markdown",
   "metadata": {},
   "source": [
    "### Insert new tags into database table"
   ]
  },
  {
   "cell_type": "code",
   "execution_count": 50,
   "metadata": {},
   "outputs": [],
   "source": [
    "append_from_df_to_db_tags(curr, new_tag_df)\n",
    "conn.commit()"
   ]
  },
  {
   "cell_type": "markdown",
   "metadata": {},
   "source": [
    "### Insert new titles into database table"
   ]
  },
  {
   "cell_type": "code",
   "execution_count": 55,
   "metadata": {},
   "outputs": [],
   "source": [
    "append_from_df_to_db_titles(curr, new_title_df)\n",
    "conn.commit()"
   ]
  },
  {
   "cell_type": "markdown",
   "metadata": {},
   "source": [
    "### View data in database table youtubers"
   ]
  },
  {
   "cell_type": "code",
   "execution_count": 56,
   "metadata": {},
   "outputs": [
    {
     "name": "stdout",
     "output_type": "stream",
     "text": [
      "[('techTFQ', 56600, 2343006, 52, datetime.datetime(2020, 6, 13, 5, 20, 37, 182391)), ('Ken Jee', 192000, 5935334, 228, datetime.datetime(2014, 2, 28, 14, 58, 24)), ('Luke Barousse', 146000, 7246147, 72, datetime.datetime(2020, 8, 3, 9, 2, 41, 213077)), ('Shashank Kalanithi', 79000, 3112432, 107, datetime.datetime(2011, 10, 1, 21, 44, 24)), ('Keith Galli', 151000, 9895657, 70, datetime.datetime(2016, 12, 27, 20, 18, 51)), ('Alex The Analyst', 186000, 7156689, 133, datetime.datetime(2020, 1, 8, 5, 4, 24, 970712)), ('Tina Huang', 284000, 10223930, 88, datetime.datetime(2013, 8, 28, 18, 5, 17)), ('Seattle Data Guy', 23900, 1110599, 120, datetime.datetime(2017, 1, 27, 6, 50, 30)), ('Data Professor', 112000, 2687797, 268, datetime.datetime(2019, 8, 17, 15, 59, 56)), ('StrataScratch', 25400, 755696, 84, datetime.datetime(2019, 5, 27, 18, 14, 27))]\n"
     ]
    }
   ],
   "source": [
    "curr.execute(\"SELECT * FROM youtubers\")\n",
    "print(curr.fetchall())"
   ]
  }
 ],
 "metadata": {
  "interpreter": {
   "hash": "b2f3147fdeb0baa8493c97421cd928c91f1c25fae91c638965396b3e9612e3be"
  },
  "kernelspec": {
   "display_name": "Python 3.10.2 ('YT-env')",
   "language": "python",
   "name": "python3"
  },
  "language_info": {
   "codemirror_mode": {
    "name": "ipython",
    "version": 3
   },
   "file_extension": ".py",
   "mimetype": "text/x-python",
   "name": "python",
   "nbconvert_exporter": "python",
   "pygments_lexer": "ipython3",
   "version": "3.10.2"
  },
  "orig_nbformat": 4
 },
 "nbformat": 4,
 "nbformat_minor": 2
}
